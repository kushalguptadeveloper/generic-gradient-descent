{
 "cells": [
  {
   "cell_type": "code",
   "execution_count": 19,
   "metadata": {},
   "outputs": [],
   "source": [
    "import numpy as np\n",
    "import pandas as pd"
   ]
  },
  {
   "cell_type": "code",
   "execution_count": 20,
   "metadata": {},
   "outputs": [],
   "source": [
    "power_train = np.genfromtxt(\"power_plant_gradient_train.csv\", delimiter = \",\")\n",
    "power_test = np.genfromtxt(\"power_plant_gradient_test.csv\", delimiter = \",\")"
   ]
  },
  {
   "cell_type": "code",
   "execution_count": 3,
   "metadata": {},
   "outputs": [],
   "source": [
    "df = pd.DataFrame(power_train)"
   ]
  },
  {
   "cell_type": "code",
   "execution_count": 4,
   "metadata": {},
   "outputs": [
    {
     "data": {
      "text/plain": [
       "(7176, 5)"
      ]
     },
     "execution_count": 4,
     "metadata": {},
     "output_type": "execute_result"
    }
   ],
   "source": [
    "power_train.shape"
   ]
  },
  {
   "cell_type": "code",
   "execution_count": 21,
   "metadata": {},
   "outputs": [],
   "source": [
    "X = power_train[:,0:4]\n",
    "Y = power_train[:, 4].reshape(-1,1)"
   ]
  },
  {
   "cell_type": "markdown",
   "metadata": {},
   "source": [
    "# adding features"
   ]
  },
  {
   "cell_type": "code",
   "execution_count": 62,
   "metadata": {},
   "outputs": [],
   "source": [
    "temp_col = X.shape[1]\n",
    "temp_df = pd.DataFrame(X)\n",
    "for i in range(temp_col):\n",
    "    temp_df[temp_col + i] = temp_df[i] ** 2\n",
    "\n",
    "extended_x = temp_df.values\n",
    "\n",
    "\n",
    "\n",
    "# test\n",
    "\n",
    "temp_col_test = power_test.shape[1]\n",
    "temp_df_test = pd.DataFrame(power_test)\n",
    "for i in range(temp_col_test):\n",
    "    temp_df_test[temp_col_test + i] = temp_df_test[i] ** 2\n",
    "extended_test = temp_df_test.values\n",
    "\n"
   ]
  },
  {
   "cell_type": "code",
   "execution_count": 6,
   "metadata": {},
   "outputs": [],
   "source": [
    "temp_df = pd.DataFrame(X)\n",
    "temp_df[4] = temp_df[0] ** 2\n",
    "temp_df[5] = temp_df[1] ** 2\n",
    "temp_df[6] = temp_df[3] ** 2\n",
    "extended_x = temp_df.values\n",
    "\n",
    "# test\n",
    "\n",
    "temp_df_test = pd.DataFrame(power_test)\n",
    "temp_df_test[4] = temp_df_test[0] ** 2\n",
    "temp_df_test[5] = temp_df_test[1] ** 2\n",
    "temp_df_test[6] = temp_df_test[3] ** 2\n",
    "extended_test = temp_df_test.values"
   ]
  },
  {
   "cell_type": "markdown",
   "metadata": {},
   "source": [
    "# scaling"
   ]
  },
  {
   "cell_type": "code",
   "execution_count": 22,
   "metadata": {},
   "outputs": [],
   "source": [
    "from sklearn import preprocessing"
   ]
  },
  {
   "cell_type": "code",
   "execution_count": 23,
   "metadata": {},
   "outputs": [],
   "source": [
    "scaler = preprocessing.StandardScaler()"
   ]
  },
  {
   "cell_type": "code",
   "execution_count": 24,
   "metadata": {},
   "outputs": [],
   "source": [
    "scaler.fit(X)\n",
    "d = scaler.transform(X)\n",
    "d_test = scaler.transform(power_test)"
   ]
  },
  {
   "cell_type": "code",
   "execution_count": 8,
   "metadata": {},
   "outputs": [],
   "source": [
    "scaler1 = preprocessing.StandardScaler()"
   ]
  },
  {
   "cell_type": "code",
   "execution_count": 9,
   "metadata": {},
   "outputs": [],
   "source": [
    "scaler1.fit(extended_x)\n",
    "de = scaler1.transform(extended_x)\n",
    "de_test = scaler1.transform(extended_test)"
   ]
  },
  {
   "cell_type": "code",
   "execution_count": null,
   "metadata": {},
   "outputs": [],
   "source": []
  },
  {
   "cell_type": "markdown",
   "metadata": {},
   "source": [
    "# adding col of 1's"
   ]
  },
  {
   "cell_type": "code",
   "execution_count": 25,
   "metadata": {},
   "outputs": [],
   "source": [
    "last_col = X.shape[1]\n",
    "no_rows = Y.shape[0]\n",
    "no_rows_test = power_test.shape[0]\n",
    "\n"
   ]
  },
  {
   "cell_type": "code",
   "execution_count": 26,
   "metadata": {},
   "outputs": [],
   "source": [
    "add_c = np.ones((no_rows,1))\n",
    "add_c_test = np.ones((no_rows_test,1)) "
   ]
  },
  {
   "cell_type": "code",
   "execution_count": 27,
   "metadata": {},
   "outputs": [
    {
     "name": "stdout",
     "output_type": "stream",
     "text": [
      "(7176, 5)\n",
      "(2392, 5)\n"
     ]
    }
   ],
   "source": [
    "d = np.concatenate((d,add_c), axis = 1)\n",
    "d_test = np.concatenate((d_test,add_c_test), axis = 1)\n",
    "\n",
    "#de = np.concatenate((de,add_c), axis = 1)\n",
    "#de_test = np.concatenate((de_test,add_c_test), axis = 1)\n",
    "print(d.shape)\n",
    "print(d_test.shape)\n",
    "#print(de.shape)\n",
    "#print(de_test.shape)"
   ]
  },
  {
   "cell_type": "markdown",
   "metadata": {},
   "source": [
    "# algo"
   ]
  },
  {
   "cell_type": "code",
   "execution_count": 28,
   "metadata": {},
   "outputs": [],
   "source": [
    "def step_gradient(points, op, learning_rate, m):\n",
    "    N = points.shape[1]\n",
    "    m_slope = np.zeros(N)\n",
    "    M = len(points)\n",
    "   \n",
    "    for i in range(M):\n",
    "        x = points[i,:]\n",
    "        y = op[i]\n",
    "        for j in range(N):\n",
    "            temp = (-2/M) * ((y - (m*x).sum())*x[j])\n",
    "            m_slope[j] = temp + m_slope[j]\n",
    "    new_m = m - learning_rate*m_slope\n",
    "    \n",
    "    #print(new_m, new_c)\n",
    "    return new_m"
   ]
  },
  {
   "cell_type": "code",
   "execution_count": 29,
   "metadata": {},
   "outputs": [],
   "source": [
    "def gd(points, op, learning_rate, num_iterations):\n",
    "    N = points.shape[1]\n",
    "    m = np.zeros(N)\n",
    "    \n",
    "    for i in range(num_iterations):\n",
    "        m = step_gradient(points, op, learning_rate, m)\n",
    "        #print(i, \"cost: \", cost(points, m, c))\n",
    "    return m\n",
    "\n",
    "\n"
   ]
  },
  {
   "cell_type": "code",
   "execution_count": 44,
   "metadata": {},
   "outputs": [],
   "source": [
    "def run(s,l):\n",
    "    \n",
    "    \n",
    "    learning_rate = 0.04\n",
    "    num_iteration = 700\n",
    "    m = gd(s, l, learning_rate, num_iteration)\n",
    "    #print(m)\n",
    "    return m"
   ]
  },
  {
   "cell_type": "markdown",
   "metadata": {},
   "source": [
    "# spliting"
   ]
  },
  {
   "cell_type": "code",
   "execution_count": 31,
   "metadata": {},
   "outputs": [],
   "source": [
    "from sklearn import model_selection"
   ]
  },
  {
   "cell_type": "code",
   "execution_count": 32,
   "metadata": {},
   "outputs": [],
   "source": [
    "x_train, x_test, y_train, y_test = model_selection.train_test_split(d, Y)"
   ]
  },
  {
   "cell_type": "markdown",
   "metadata": {},
   "source": [
    "# main"
   ]
  },
  {
   "cell_type": "code",
   "execution_count": 45,
   "metadata": {},
   "outputs": [
    {
     "data": {
      "text/plain": [
       "array([-1.48872360e+01, -2.92044431e+00,  3.98938208e-01, -2.34846069e+00,\n",
       "        4.54444620e+02])"
      ]
     },
     "execution_count": 45,
     "metadata": {},
     "output_type": "execute_result"
    }
   ],
   "source": [
    "final_m = run(x_train, y_train)\n",
    "\n",
    "\n",
    "#final_m = run(d, Y)\n",
    "final_m"
   ]
  },
  {
   "cell_type": "markdown",
   "metadata": {},
   "source": [
    "# predicting values for test"
   ]
  },
  {
   "cell_type": "code",
   "execution_count": 46,
   "metadata": {},
   "outputs": [],
   "source": [
    "list1 = list()\n",
    "for i in range(len(x_test)):\n",
    "    x = x_test[i,:]\n",
    "    y_pred = (final_m*x).sum()\n",
    "    list1.append(y_pred)\n",
    "list2 = np.array(list1)"
   ]
  },
  {
   "cell_type": "markdown",
   "metadata": {},
   "source": [
    "# predicting on final_test.csv without extended features\n",
    "\n"
   ]
  },
  {
   "cell_type": "code",
   "execution_count": 38,
   "metadata": {},
   "outputs": [],
   "source": [
    "list_test = list()\n",
    "for i in range(len(d_test)):\n",
    "    x = d_test[i,:]\n",
    "    y_pred = (final_m*x).sum()\n",
    "    list_test.append(y_pred)\n",
    "list_final = np.array(list_test)"
   ]
  },
  {
   "cell_type": "markdown",
   "metadata": {},
   "source": [
    "# predicting on final_test.csv with extended features\n",
    "\n",
    "\n"
   ]
  },
  {
   "cell_type": "code",
   "execution_count": 17,
   "metadata": {},
   "outputs": [],
   "source": [
    "list_test = list()\n",
    "for i in range(len(de_test)):\n",
    "    x = de_test[i,:]\n",
    "    y_pred = (final_m*x).sum()\n",
    "    list_test.append(y_pred)\n",
    "list_final = np.array(list_test)"
   ]
  },
  {
   "cell_type": "code",
   "execution_count": 35,
   "metadata": {},
   "outputs": [],
   "source": [
    "import matplotlib.pyplot as plt"
   ]
  },
  {
   "cell_type": "code",
   "execution_count": 47,
   "metadata": {},
   "outputs": [
    {
     "data": {
      "image/png": "[encoded data removed]",
      "text/plain": [
       "<matplotlib.figure.Figure at 0x1a16e57160>"
      ]
     },
     "metadata": {},
     "output_type": "display_data"
    }
   ],
   "source": [
    "#kl = kl.reshape(379)\n",
    "\n",
    "plt.scatter(list2,y_test)\n",
    "plt.show()"
   ]
  },
  {
   "cell_type": "code",
   "execution_count": 74,
   "metadata": {},
   "outputs": [
    {
     "data": {
      "text/plain": [
       "(2392,)"
      ]
     },
     "execution_count": 74,
     "metadata": {},
     "output_type": "execute_result"
    }
   ],
   "source": [
    "list_final.shape"
   ]
  },
  {
   "cell_type": "code",
   "execution_count": 39,
   "metadata": {},
   "outputs": [],
   "source": [
    "np.savetxt(\"power_gradientdescent_project_predicted_values5.csv\", list_final, delimiter = \",\", fmt = '%.5f')"
   ]
  }
 ],
 "metadata": {
  "kernelspec": {
   "display_name": "Python 3",
   "language": "python",
   "name": "python3"
  },
  "language_info": {
   "codemirror_mode": {
    "name": "ipython",
    "version": 3
   },
   "file_extension": ".py",
   "mimetype": "text/x-python",
   "name": "python",
   "nbconvert_exporter": "python",
   "pygments_lexer": "ipython3",
   "version": "3.6.4"
  }
 },
 "nbformat": 4,
 "nbformat_minor": 2
}
