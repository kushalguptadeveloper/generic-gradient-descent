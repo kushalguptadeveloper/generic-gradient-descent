{
 "cells": [
  {
   "cell_type": "code",
   "execution_count": 1,
   "metadata": {},
   "outputs": [],
   "source": [
    "import numpy as np\n",
    "import pandas as pd"
   ]
  },
  {
   "cell_type": "code",
   "execution_count": 2,
   "metadata": {},
   "outputs": [],
   "source": []
  },
  {
   "cell_type": "code",
   "execution_count": null,
   "metadata": {},
   "outputs": [],
   "source": [
    "boston = np.genfromtxt(\"boston_train_gradient.csv\", delimiter = \",\")\n",
    "boston_test = np.genfromtxt(\"boston_test_gradient.csv\", delimiter = \",\")"
   ]
  },
  {
   "cell_type": "code",
   "execution_count": null,
   "metadata": {},
   "outputs": [],
   "source": [
    "df = pd.DataFrame(boston)\n"
   ]
  },
  {
   "cell_type": "code",
   "execution_count": null,
   "metadata": {},
   "outputs": [],
   "source": [
    "boston_test.shape"
   ]
  },
  {
   "cell_type": "code",
   "execution_count": null,
   "metadata": {},
   "outputs": [],
   "source": [
    "X = boston[:,0:13]\n",
    "Y = boston[:, 13].reshape(-1,1)\n"
   ]
  },
  {
   "cell_type": "markdown",
   "metadata": {},
   "source": [
    "features added"
   ]
  },
  {
   "cell_type": "code",
   "execution_count": null,
   "metadata": {},
   "outputs": [],
   "source": [
    "temp_col = X.shape[1]\n",
    "temp_df = pd.DataFrame(X)\n",
    "for i in range(temp_col):\n",
    "    temp_df[temp_col + i] = temp_df[i] ** 2\n",
    "\n",
    "extended_x = temp_df.values\n",
    "\n",
    "\n",
    "\n",
    "# test\n",
    "\n",
    "temp_col_test = boston_test.shape[1]\n",
    "temp_df_test = pd.DataFrame(boston_test)\n",
    "for i in range(temp_col_test):\n",
    "    temp_df_test[temp_col_test + i] = temp_df_test[i] ** 2\n",
    "extended_test = temp_df_test.values\n"
   ]
  },
  {
   "cell_type": "code",
   "execution_count": null,
   "metadata": {},
   "outputs": [],
   "source": [
    "from sklearn import preprocessing"
   ]
  },
  {
   "cell_type": "code",
   "execution_count": null,
   "metadata": {},
   "outputs": [],
   "source": [
    "scaler = preprocessing.StandardScaler()"
   ]
  },
  {
   "cell_type": "markdown",
   "metadata": {},
   "source": [
    "# adding column of 1 at the end"
   ]
  },
  {
   "cell_type": "code",
   "execution_count": null,
   "metadata": {},
   "outputs": [],
   "source": [
    "last_col = X.shape[1]\n",
    "no_rows = Y.shape[0]\n",
    "no_rows_test = boston_test.shape[0]\n"
   ]
  },
  {
   "cell_type": "code",
   "execution_count": null,
   "metadata": {},
   "outputs": [],
   "source": [
    "add_c = np.ones((no_rows,1))\n",
    "add_c_test = np.ones((no_rows_test,1)) "
   ]
  },
  {
   "cell_type": "markdown",
   "metadata": {},
   "source": [
    "de added"
   ]
  },
  {
   "cell_type": "code",
   "execution_count": null,
   "metadata": {},
   "outputs": [],
   "source": [
    "d = np.concatenate((X,add_c), axis = 1)\n",
    "test_sir = np.concatenate((boston_test,add_c_test), axis = 1)\n",
    "de = np.concatenate((extended_x,add_c), axis = 1)\n",
    "test_sir_extended = np.concatenate((extended_test,add_c_test), axis = 1)\n",
    "\n",
    "\n",
    "de.shape\n",
    "d.shape"
   ]
  },
  {
   "cell_type": "markdown",
   "metadata": {},
   "source": [
    "# scaling"
   ]
  },
  {
   "cell_type": "code",
   "execution_count": null,
   "metadata": {},
   "outputs": [],
   "source": [
    "scaler.fit(X)\n",
    "X = scaler.transform(X)"
   ]
  },
  {
   "cell_type": "code",
   "execution_count": null,
   "metadata": {},
   "outputs": [],
   "source": [
    "scaler.fit(d)\n",
    "d = scaler.transform(d)\n"
   ]
  },
  {
   "cell_type": "code",
   "execution_count": null,
   "metadata": {},
   "outputs": [],
   "source": [
    "scaler.fit()"
   ]
  },
  {
   "cell_type": "code",
   "execution_count": null,
   "metadata": {},
   "outputs": [],
   "source": [
    "#scaler.fit(Y)\n",
    "#Y = scaler.transform(Y)\n"
   ]
  },
  {
   "cell_type": "code",
   "execution_count": null,
   "metadata": {},
   "outputs": [],
   "source": [
    "scaler.fit(test_sir)\n",
    "test_sir = scaler.transform(test_sir)"
   ]
  },
  {
   "cell_type": "markdown",
   "metadata": {},
   "source": [
    "# algo"
   ]
  },
  {
   "cell_type": "code",
   "execution_count": null,
   "metadata": {},
   "outputs": [],
   "source": []
  },
  {
   "cell_type": "code",
   "execution_count": null,
   "metadata": {},
   "outputs": [],
   "source": [
    "def step_gradient(points, op, learning_rate, m):\n",
    "    N = points.shape[1]\n",
    "    m_slope = np.zeros(N)\n",
    "    M = len(points)\n",
    "   \n",
    "    for i in range(M):\n",
    "        x = points[i,:]\n",
    "        y = op[i]\n",
    "        for j in range(N):\n",
    "            temp = (-2/M) * ((y - (m*x).sum())*x[j])\n",
    "            m_slope[j] = temp + m_slope[j]\n",
    "    new_m = m - learning_rate*m_slope\n",
    "    \n",
    "    #print(new_m, new_c)\n",
    "    return new_m"
   ]
  },
  {
   "cell_type": "code",
   "execution_count": null,
   "metadata": {},
   "outputs": [],
   "source": [
    "def gd(points, op, learning_rate, num_iterations):\n",
    "    N = points.shape[1]\n",
    "    m = np.zeros(N)\n",
    "    \n",
    "    for i in range(num_iterations):\n",
    "        m = step_gradient(points, op, learning_rate, m)\n",
    "        #print(i, \"cost: \", cost(points, m, c))\n",
    "    return m\n",
    "\n"
   ]
  },
  {
   "cell_type": "code",
   "execution_count": null,
   "metadata": {},
   "outputs": [],
   "source": [
    "def run(s,l):\n",
    "    \n",
    "    \n",
    "    learning_rate = 0.01\n",
    "    num_iteration = 1000\n",
    "    m = gd(s, l, learning_rate, num_iteration)\n",
    "    #print(m)\n",
    "    return m"
   ]
  },
  {
   "cell_type": "markdown",
   "metadata": {},
   "source": [
    "# spliting"
   ]
  },
  {
   "cell_type": "code",
   "execution_count": null,
   "metadata": {},
   "outputs": [],
   "source": [
    "from sklearn import model_selection"
   ]
  },
  {
   "cell_type": "code",
   "execution_count": null,
   "metadata": {},
   "outputs": [],
   "source": [
    "x_train, x_test, y_train, y_test = model_selection.train_test_split(d, Y)"
   ]
  },
  {
   "cell_type": "markdown",
   "metadata": {},
   "source": [
    "# main"
   ]
  },
  {
   "cell_type": "code",
   "execution_count": null,
   "metadata": {},
   "outputs": [],
   "source": [
    "final_m = run(x_train, y_train)\n",
    "\n",
    "\n",
    "#final_m = run(de, Y)\n",
    "final_m"
   ]
  },
  {
   "cell_type": "markdown",
   "metadata": {},
   "source": [
    "# predicting values for test"
   ]
  },
  {
   "cell_type": "code",
   "execution_count": null,
   "metadata": {},
   "outputs": [],
   "source": [
    "list1 = list()\n",
    "for i in range(len(x_test)):\n",
    "    x = x_test[i,:]\n",
    "    y_pred = (final_m*x).sum()\n",
    "    list1.append(y_pred)\n",
    "list2 = np.array(list1)"
   ]
  },
  {
   "cell_type": "markdown",
   "metadata": {},
   "source": [
    "# predicting on final_test.csv without extended features\n"
   ]
  },
  {
   "cell_type": "code",
   "execution_count": null,
   "metadata": {},
   "outputs": [],
   "source": [
    "list_test = list()\n",
    "for i in range(len(test_sir)):\n",
    "    x = test_sir[i,:]\n",
    "    y_pred = (final_m*x).sum()\n",
    "    list_test.append(y_pred)\n",
    "list_final = np.array(list_test)"
   ]
  },
  {
   "cell_type": "markdown",
   "metadata": {},
   "source": [
    "# predicting on final_test.csv with extended features"
   ]
  },
  {
   "cell_type": "code",
   "execution_count": null,
   "metadata": {},
   "outputs": [],
   "source": [
    "list_test = list()\n",
    "for i in range(len(test_sir_extended)):\n",
    "    x = test_sir_extended[i,:]\n",
    "    y_pred = (final_m*x).sum()\n",
    "    list_test.append(y_pred)\n",
    "list_final = np.array(list_test)"
   ]
  },
  {
   "cell_type": "code",
   "execution_count": null,
   "metadata": {},
   "outputs": [],
   "source": [
    "import matplotlib.pyplot as plt"
   ]
  },
  {
   "cell_type": "code",
   "execution_count": null,
   "metadata": {},
   "outputs": [],
   "source": [
    "#kl = kl.reshape(379)\n",
    "\n",
    "plt.scatter(list2,y_test)\n",
    "plt.show()"
   ]
  },
  {
   "cell_type": "code",
   "execution_count": null,
   "metadata": {},
   "outputs": [],
   "source": [
    "list_final.shape"
   ]
  },
  {
   "cell_type": "code",
   "execution_count": null,
   "metadata": {},
   "outputs": [],
   "source": [
    "np.savetxt(\"boston_gradientdescent_project_predicted_values4.csv\", list_final, delimiter = \",\", fmt = '%.5f')"
   ]
  },
  {
   "cell_type": "markdown",
   "metadata": {},
   "source": []
  }
 ],
 "metadata": {
  "kernelspec": {
   "display_name": "Python 3",
   "language": "python",
   "name": "python3"
  },
  "language_info": {
   "codemirror_mode": {
    "name": "ipython",
    "version": 3
   },
   "file_extension": ".py",
   "mimetype": "text/x-python",
   "name": "python",
   "nbconvert_exporter": "python",
   "pygments_lexer": "ipython3",
   "version": "3.6.4"
  }
 },
 "nbformat": 4,
 "nbformat_minor": 2
}
